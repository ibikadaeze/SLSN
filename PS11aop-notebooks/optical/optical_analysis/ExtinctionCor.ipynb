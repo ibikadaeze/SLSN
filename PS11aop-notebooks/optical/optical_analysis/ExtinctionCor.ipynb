{
 "cells": [
  {
   "cell_type": "code",
   "execution_count": 1,
   "metadata": {},
   "outputs": [],
   "source": [
    "import numpy as np\n",
    "from astropy.io import ascii\n",
    "from astropy.table import Table\n",
    "import sys\n",
    "import matplotlib.pyplot as plt"
   ]
  },
  {
   "cell_type": "code",
   "execution_count": 2,
   "metadata": {},
   "outputs": [],
   "source": [
    "#Cardelli Extinction for spectra:\n",
    "\n",
    "def Cardelli(wave,flux,Av,Rv):\n",
    "    '''Will de-redden an input spectrum based on the Cardelli law:\n",
    "    \n",
    "    Parameters:\n",
    "    wave (angstrom): wavelengths of input spectrum in Angstrom\n",
    "    flux (erg/s/cm/Ang): flux of spectrum; scaled version of this flux are fine.\n",
    "    Av:\n",
    "    Rv:\n",
    "    \n",
    "    Returns: a new flux array in same units as input\n",
    "    '''\n",
    "\n",
    "    wave_micon=wave*1.0e-4\n",
    "    wave_inverse=1.0/wave_micon\n",
    "    \n",
    "    A_lambda=np.zeros(len(wave))\n",
    "    ax=np.zeros(len(wave))\n",
    "    bx=np.zeros(len(wave))\n",
    "    \n",
    "    for i in range(len(wave)):\n",
    "        if((wave_inverse[i] > 0.3) and (wave_inverse[i] < 1.1)):\n",
    "            ax[i]=0.574*wave_inverse[i]**1.61\n",
    "            bx[i]=-0.527*wave_inverse[i]**1.61\n",
    "        if((wave_inverse[i] > 1.1) and (wave_inverse[i] < 3.3)):\n",
    "            y=wave_inverse[i] - 1.82\n",
    "            ax[i]=1+ 0.17699*y - 0.50447*y**2. - 0.02427*y**3.+0.72085*y**4.+0.01979*y**5.-0.77530*y**6.+0.32999*y**7.\n",
    "            bx[i]=1.41338*y+2.28305*y**2.+1.07233*y**3.-5.38434*y**4.-0.62251*y**5.+5.30260*y**6.-2.09002*y**7.\n",
    "        if((wave_inverse[i] > 3.3) and (wave_inverse[i] < 8.0)):\n",
    "            if(wave_inverse[i] > 5.9):\n",
    "                Fa=-0.04473*(wave_inverse[i] - 5.9)**2.-0.009779*(wave_inverse[i]-5.9)**3.\n",
    "                Fb=0.2130*(wave_inverse[i] - 5.9)**2. +0.1207*(wave_inverse[i] -5.9)**3.\n",
    "            else:\n",
    "                Fa = 0.0\n",
    "                Fb = 0.0\n",
    "\n",
    "            ax[i]=1.752 - 0.316*wave_inverse[i]-0.104/((wave_inverse[i]-4.67)**2.+0.341) +Fa\n",
    "            bx[i]=-3.090+1.825*wave_inverse[i]+1.206/((wave_inverse[i] - 4.62)**2.+0.263) +Fb\n",
    "\n",
    "    A_lambda=(ax+bx/Rv)*Av\n",
    "    #print(A_lambda)\n",
    "    NewSpec=flux*10.**(0.4*A_lambda)\n",
    "    results = NewSpec\n",
    "    return results"
   ]
  },
  {
   "cell_type": "markdown",
   "metadata": {},
   "source": [
    "## Read in file, correct, write out."
   ]
  },
  {
   "cell_type": "code",
   "execution_count": 3,
   "metadata": {},
   "outputs": [],
   "source": [
    "file='spectra.csv'\n",
    "data = ascii.read(file,format='csv')\n",
    "#first epoch SN\n",
    "l = data['lambda(A)']\n",
    "flux = data['flux']\n",
    "fluxerr = data['fluxerror']\n",
    "#second epoch SN\n",
    "lg = data['lambdag(A)']\n",
    "fluxg = data['fluxg']\n",
    "#host galaxy spec\n",
    "lga = data['lambda2']\n",
    "fluxga = data['flux2']"
   ]
  },
  {
   "cell_type": "code",
   "execution_count": 1,
   "metadata": {},
   "outputs": [
    {
     "ename": "AttributeError",
     "evalue": "'builtin_function_or_method' object has no attribute 'read'",
     "output_type": "error",
     "traceback": [
      "\u001b[0;31m---------------------------------------------------------------------------\u001b[0m",
      "\u001b[0;31mAttributeError\u001b[0m                            Traceback (most recent call last)",
      "Cell \u001b[0;32mIn[1], line 3\u001b[0m\n\u001b[1;32m      1\u001b[0m \u001b[38;5;66;03m#data = ascii.read('PS1-11aop-host-comb-20140923-dered.flm')\u001b[39;00m\n\u001b[1;32m      2\u001b[0m \u001b[38;5;66;03m#data\u001b[39;00m\n\u001b[0;32m----> 3\u001b[0m data \u001b[38;5;241m=\u001b[39m \u001b[43mascii\u001b[49m\u001b[38;5;241;43m.\u001b[39;49m\u001b[43mread\u001b[49m(\u001b[38;5;124m'\u001b[39m\u001b[38;5;124m/Users/adaezeibik/Downloads/PS1-11aop-host-comb-20140923-dered.flm\u001b[39m\u001b[38;5;124m'\u001b[39m)\n",
      "\u001b[0;31mAttributeError\u001b[0m: 'builtin_function_or_method' object has no attribute 'read'"
     ]
    }
   ],
   "source": [
    "#data = ascii.read('PS1-11aop-host-comb-20140923-dered.flm')\n",
    "#data\n",
    "data = ascii.read('/Users/adaezeibik/Downloads/PS1-11aop-host-comb-20140923-dered.flm')"
   ]
  },
  {
   "cell_type": "code",
   "execution_count": 9,
   "metadata": {},
   "outputs": [
    {
     "data": {
      "text/plain": [
       "0.10757000000000001"
      ]
     },
     "execution_count": 9,
     "metadata": {},
     "output_type": "execute_result"
    }
   ],
   "source": [
    "0.0347*3.1"
   ]
  },
  {
   "cell_type": "markdown",
   "metadata": {},
   "source": [
    "## Use  https://irsa.ipac.caltech.edu/applications/DUST/ to estimate the EBV of the source\n",
    "## using the source RA and DEC"
   ]
  },
  {
   "cell_type": "code",
   "execution_count": 3,
   "metadata": {},
   "outputs": [
    {
     "ename": "NameError",
     "evalue": "name 'lga' is not defined",
     "output_type": "error",
     "traceback": [
      "\u001b[0;31m---------------------------------------------------------------------------\u001b[0m",
      "\u001b[0;31mNameError\u001b[0m                                 Traceback (most recent call last)",
      "Cell \u001b[0;32mIn[3], line 7\u001b[0m\n\u001b[1;32m      4\u001b[0m Rv \u001b[38;5;241m=\u001b[39m \u001b[38;5;241m3.1\u001b[39m\n\u001b[1;32m      5\u001b[0m Av \u001b[38;5;241m=\u001b[39m EBmV\u001b[38;5;241m*\u001b[39mRv\n\u001b[0;32m----> 7\u001b[0m new_flux \u001b[38;5;241m=\u001b[39m Cardelli(\u001b[43mlga\u001b[49m,fluxga,Av,Rv)\n\u001b[1;32m      9\u001b[0m outfile \u001b[38;5;241m=\u001b[39m \u001b[38;5;124m'\u001b[39m\u001b[38;5;124mPS1-11aop-host-dered.fits\u001b[39m\u001b[38;5;124m'\u001b[39m\n\u001b[1;32m     10\u001b[0m data2 \u001b[38;5;241m=\u001b[39m [lga,new_flux]\n",
      "\u001b[0;31mNameError\u001b[0m: name 'lga' is not defined"
     ]
    }
   ],
   "source": [
    "#data = ascii.read('PS1-11aop-host-comb-20140923.flm',names=['waves','flux'])\n",
    "\n",
    "EBmV = 0.0347\n",
    "Rv = 3.1\n",
    "Av = EBmV*Rv\n",
    "\n",
    "new_flux = Cardelli(lga,fluxga,Av,Rv)\n",
    "\n",
    "outfile = 'PS1-11aop-host-dered.fits'\n",
    "data2 = [lga,new_flux]\n",
    "ascii.write(data2,outfile)"
   ]
  },
  {
   "cell_type": "code",
   "execution_count": 13,
   "metadata": {},
   "outputs": [
    {
     "data": {
      "text/plain": [
       "array([1.45525708e-15])"
      ]
     },
     "execution_count": 13,
     "metadata": {},
     "output_type": "execute_result"
    }
   ],
   "source": [
    "new_flux = Cardelli(np.array([6562.819]),np.array([1.342e-15]),Av,Rv) #6562.819\n",
    "\n",
    "new_flux\n"
   ]
  },
  {
   "cell_type": "code",
   "execution_count": 6,
   "metadata": {},
   "outputs": [
    {
     "data": {
      "text/html": [
       "&lt;Table length=3548&gt;\n",
       "<table id=\"table4850806568\" class=\"table-striped table-bordered table-condensed\">\n",
       "<thead><tr><th>waves</th><th>flux</th></tr></thead>\n",
       "<thead><tr><th>float64</th><th>float64</th></tr></thead>\n",
       "<tr><td>3801.0</td><td>0.1050628423690796</td></tr>\n",
       "<tr><td>3802.91976329028</td><td>0.08556422591209412</td></tr>\n",
       "<tr><td>3804.83952658056</td><td>0.1372953653335571</td></tr>\n",
       "<tr><td>3806.75928987084</td><td>0.1593190580606461</td></tr>\n",
       "<tr><td>3808.67905316112</td><td>0.07919652760028839</td></tr>\n",
       "<tr><td>3810.59881645141</td><td>-0.01335764117538929</td></tr>\n",
       "<tr><td>3812.51857974169</td><td>-0.1231140941381454</td></tr>\n",
       "<tr><td>3814.43834303197</td><td>-0.09061825275421143</td></tr>\n",
       "<tr><td>3816.35810632225</td><td>0.07177010178565979</td></tr>\n",
       "<tr><td>3818.27786961253</td><td>0.130263164639473</td></tr>\n",
       "<tr><td>...</td><td>...</td></tr>\n",
       "<tr><td>10593.1225210124</td><td>0.0163014754652977</td></tr>\n",
       "<tr><td>10595.0422843027</td><td>0.01875822618603706</td></tr>\n",
       "<tr><td>10596.962047593</td><td>0.00895802304148674</td></tr>\n",
       "<tr><td>10598.8818108833</td><td>0.0009061413584277033</td></tr>\n",
       "<tr><td>10600.8015741735</td><td>0.003454550402238965</td></tr>\n",
       "<tr><td>10602.7213374638</td><td>0.009053961373865604</td></tr>\n",
       "<tr><td>10604.6411007541</td><td>0.01204600930213928</td></tr>\n",
       "<tr><td>10606.5608640444</td><td>0.01392310671508312</td></tr>\n",
       "<tr><td>10608.4806273347</td><td>0.01373321376740932</td></tr>\n",
       "<tr><td>10610.4003906249</td><td>0.01700795814394951</td></tr>\n",
       "</table>"
      ],
      "text/plain": [
       "<Table length=3548>\n",
       "     waves                flux        \n",
       "    float64             float64       \n",
       "---------------- ---------------------\n",
       "          3801.0    0.1050628423690796\n",
       "3802.91976329028   0.08556422591209412\n",
       "3804.83952658056    0.1372953653335571\n",
       "3806.75928987084    0.1593190580606461\n",
       "3808.67905316112   0.07919652760028839\n",
       "3810.59881645141  -0.01335764117538929\n",
       "3812.51857974169   -0.1231140941381454\n",
       "3814.43834303197  -0.09061825275421143\n",
       "3816.35810632225   0.07177010178565979\n",
       "3818.27786961253     0.130263164639473\n",
       "             ...                   ...\n",
       "10593.1225210124    0.0163014754652977\n",
       "10595.0422843027   0.01875822618603706\n",
       " 10596.962047593   0.00895802304148674\n",
       "10598.8818108833 0.0009061413584277033\n",
       "10600.8015741735  0.003454550402238965\n",
       "10602.7213374638  0.009053961373865604\n",
       "10604.6411007541   0.01204600930213928\n",
       "10606.5608640444   0.01392310671508312\n",
       "10608.4806273347   0.01373321376740932\n",
       "10610.4003906249   0.01700795814394951"
      ]
     },
     "execution_count": 6,
     "metadata": {},
     "output_type": "execute_result"
    }
   ],
   "source": [
    "data2"
   ]
  },
  {
   "cell_type": "code",
   "execution_count": 3,
   "metadata": {},
   "outputs": [],
   "source": [
    "#Do the same for the explosion spectra:"
   ]
  },
  {
   "cell_type": "code",
   "execution_count": 4,
   "metadata": {},
   "outputs": [],
   "source": [
    "data = ascii.read('Explosion/mmtblue-20120720-h300140-o1.txt',names=['waves','flux'])\n",
    "\n",
    "EBmV = 0.0347\n",
    "Rv = 3.1\n",
    "Av = EBmV*Rv\n",
    "\n",
    "new_flux = Cardelli(data['waves'],data['flux'],Av,Rv)\n",
    "\n",
    "outfile = 'Explosion/mmtblue-20120720-h300140-o1-dered.flm'\n",
    "data2 = [data['waves'],new_flux]\n",
    "ascii.write(data2,outfile)"
   ]
  },
  {
   "cell_type": "code",
   "execution_count": 5,
   "metadata": {},
   "outputs": [],
   "source": [
    "data = ascii.read('Explosion/checto015.2011mHm300140-20111027.100+error.flm',names=['waves','flux','dflux'])\n",
    "\n",
    "EBmV = 0.0347\n",
    "Rv = 3.1\n",
    "Av = EBmV*Rv\n",
    "\n",
    "new_flux = Cardelli(data['waves'],data['flux'],Av,Rv)\n",
    "\n",
    "outfile = 'Explosion/checto015.2011mHm300140-20111027.100+error-dered.flm'\n",
    "data2 = [data['waves'],new_flux]\n",
    "ascii.write(data2,outfile)"
   ]
  },
  {
   "cell_type": "code",
   "execution_count": 13,
   "metadata": {},
   "outputs": [
    {
     "name": "stderr",
     "output_type": "stream",
     "text": [
      "WARNING: AstropyDeprecationWarning: c64_phv2_dered.csv already exists. Automatically overwriting ASCII files is deprecated. Use the argument 'overwrite=True' in the future. [astropy.io.ascii.ui]\n"
     ]
    }
   ],
   "source": [
    "# Extinction correction and rest frame correction for C64 Host galaxy Gemini spectra\n",
    "\n",
    "data = ascii.read('/Users/adaezeibik/virtual_ubuntu/Q2-1/Q2-2/corr_skysub_version/c64_phv2_comb.csv',names=['waves','flux'])\n",
    "\n",
    "EBmV = 0.0078 \n",
    "Rv = 3.1\n",
    "Av = EBmV*Rv\n",
    "z = 0.122\n",
    "new_flux = Cardelli(data['waves'],data['flux'],Av,Rv)\n",
    "\n",
    "outfile = 'c64_phv2_dered.csv'\n",
    "data2 = [data['waves']/(1+z),new_flux]\n",
    "ascii.write(data2,outfile)"
   ]
  },
  {
   "cell_type": "code",
   "execution_count": 17,
   "metadata": {},
   "outputs": [
    {
     "data": {
      "text/plain": [
       "array([6.08565624e-15, 8.88228053e-16, 2.08601168e-15, 1.26648229e-16])"
      ]
     },
     "execution_count": 17,
     "metadata": {},
     "output_type": "execute_result"
    }
   ],
   "source": [
    "#Extinction correction for C27 host galaxy spectra\n",
    "#flux = [halpha ,hbeta,nitrogen,oxygen]\n",
    "wave = np.array([6562.819,4861.333,6583.460,5006.843])\n",
    "flux = np.array([5.808e-15, 8.311e-16, 1.9912e-15, 1.188e-16]) #C27 host galaxy spectra from sdss-iii\n",
    "EBmV = 0.0197 \n",
    "Rv = 3.1\n",
    "Av = EBmV*Rv\n",
    "\n",
    "new_flux = Cardelli(wave,flux,Av,Rv)\n",
    "new_flux"
   ]
  },
  {
   "cell_type": "code",
   "execution_count": 18,
   "metadata": {},
   "outputs": [
    {
     "data": {
      "text/plain": [
       "array([8.62985326e-15, 1.16528302e-15, 4.17109806e-15, 2.93928771e-15])"
      ]
     },
     "execution_count": 18,
     "metadata": {},
     "output_type": "execute_result"
    }
   ],
   "source": [
    "#Extinction correction for R49 host galaxy spectra\n",
    "#flux = [halpha ,hbeta,nitrogen,oxygen]\n",
    "wave = np.array([6562.819,4861.333,6583.460,5006.843])\n",
    "flux = np.array([7.69869e-15, 9.9047e-16, 3.72269e-15, 2.5137e-15]) #R49 host galaxy spectra from lamost\n",
    "EBmV = 0.0483\n",
    "Rv = 3.1\n",
    "Av = EBmV*Rv\n",
    "\n",
    "new_flux = Cardelli(wave,flux,Av,Rv)\n",
    "new_flux"
   ]
  },
  {
   "cell_type": "code",
   "execution_count": null,
   "metadata": {},
   "outputs": [],
   "source": []
  },
  {
   "cell_type": "code",
   "execution_count": 7,
   "metadata": {},
   "outputs": [
    {
     "ename": "OSError",
     "evalue": "File c64prs-dered.csv already exists. If you mean to replace it then use the argument \"overwrite=True\".",
     "output_type": "error",
     "traceback": [
      "\u001b[0;31m---------------------------------------------------------------------------\u001b[0m",
      "\u001b[0;31mOSError\u001b[0m                                   Traceback (most recent call last)",
      "\u001b[0;32m<ipython-input-7-6a5041d6e8e0>\u001b[0m in \u001b[0;36m<module>\u001b[0;34m\u001b[0m\n\u001b[1;32m     11\u001b[0m \u001b[0moutfile\u001b[0m \u001b[0;34m=\u001b[0m \u001b[0;34m'c64prs-dered.csv'\u001b[0m\u001b[0;34m\u001b[0m\u001b[0;34m\u001b[0m\u001b[0m\n\u001b[1;32m     12\u001b[0m \u001b[0mdata2\u001b[0m \u001b[0;34m=\u001b[0m \u001b[0;34m[\u001b[0m\u001b[0mdata\u001b[0m\u001b[0;34m[\u001b[0m\u001b[0;34m'waves'\u001b[0m\u001b[0;34m]\u001b[0m\u001b[0;34m/\u001b[0m\u001b[0;34m(\u001b[0m\u001b[0;36m1\u001b[0m\u001b[0;34m+\u001b[0m\u001b[0mz\u001b[0m\u001b[0;34m)\u001b[0m\u001b[0;34m,\u001b[0m\u001b[0mnew_flux\u001b[0m\u001b[0;34m]\u001b[0m\u001b[0;34m\u001b[0m\u001b[0;34m\u001b[0m\u001b[0m\n\u001b[0;32m---> 13\u001b[0;31m \u001b[0mascii\u001b[0m\u001b[0;34m.\u001b[0m\u001b[0mwrite\u001b[0m\u001b[0;34m(\u001b[0m\u001b[0mdata2\u001b[0m\u001b[0;34m,\u001b[0m\u001b[0moutfile\u001b[0m\u001b[0;34m)\u001b[0m\u001b[0;34m\u001b[0m\u001b[0;34m\u001b[0m\u001b[0m\n\u001b[0m",
      "\u001b[0;32m~/anaconda3/lib/python3.8/site-packages/astropy/io/ascii/ui.py\u001b[0m in \u001b[0;36mwrite\u001b[0;34m(table, output, format, Writer, fast_writer, overwrite, **kwargs)\u001b[0m\n\u001b[1;32m    938\u001b[0m         \u001b[0moutput\u001b[0m \u001b[0;34m=\u001b[0m \u001b[0mos\u001b[0m\u001b[0;34m.\u001b[0m\u001b[0mpath\u001b[0m\u001b[0;34m.\u001b[0m\u001b[0mexpanduser\u001b[0m\u001b[0;34m(\u001b[0m\u001b[0moutput\u001b[0m\u001b[0;34m)\u001b[0m\u001b[0;34m\u001b[0m\u001b[0;34m\u001b[0m\u001b[0m\n\u001b[1;32m    939\u001b[0m         \u001b[0;32mif\u001b[0m \u001b[0;32mnot\u001b[0m \u001b[0moverwrite\u001b[0m \u001b[0;32mand\u001b[0m \u001b[0mos\u001b[0m\u001b[0;34m.\u001b[0m\u001b[0mpath\u001b[0m\u001b[0;34m.\u001b[0m\u001b[0mlexists\u001b[0m\u001b[0;34m(\u001b[0m\u001b[0moutput\u001b[0m\u001b[0;34m)\u001b[0m\u001b[0;34m:\u001b[0m\u001b[0;34m\u001b[0m\u001b[0;34m\u001b[0m\u001b[0m\n\u001b[0;32m--> 940\u001b[0;31m             \u001b[0;32mraise\u001b[0m \u001b[0mOSError\u001b[0m\u001b[0;34m(\u001b[0m\u001b[0mNOT_OVERWRITING_MSG\u001b[0m\u001b[0;34m.\u001b[0m\u001b[0mformat\u001b[0m\u001b[0;34m(\u001b[0m\u001b[0moutput\u001b[0m\u001b[0;34m)\u001b[0m\u001b[0;34m)\u001b[0m\u001b[0;34m\u001b[0m\u001b[0;34m\u001b[0m\u001b[0m\n\u001b[0m\u001b[1;32m    941\u001b[0m \u001b[0;34m\u001b[0m\u001b[0m\n\u001b[1;32m    942\u001b[0m     \u001b[0;32mif\u001b[0m \u001b[0moutput\u001b[0m \u001b[0;32mis\u001b[0m \u001b[0;32mNone\u001b[0m\u001b[0;34m:\u001b[0m\u001b[0;34m\u001b[0m\u001b[0;34m\u001b[0m\u001b[0m\n",
      "\u001b[0;31mOSError\u001b[0m: File c64prs-dered.csv already exists. If you mean to replace it then use the argument \"overwrite=True\"."
     ]
    }
   ],
   "source": [
    "# Extinction correction and rest frame correction for C64 prs Host galaxy Gemini spectra\n",
    "#Delete the header info after converting the file (if not it will not read in)\n",
    "data = ascii.read('/Users/adaezeibik/virtual_ubuntu/Q2-1/Q2-1/c64prs-combine.csv',names=['waves','flux'])\n",
    "\n",
    "EBmV = 0.0078 #from SFD\n",
    "Rv = 3.1\n",
    "Av = EBmV*Rv\n",
    "z = 0.2673 # from spec\n",
    "new_flux = Cardelli(data['waves'],data['flux'],Av,Rv)\n",
    "\n",
    "outfile = 'c64prs-dered.csv'\n",
    "data2 = [data['waves']/(1+z),new_flux]\n",
    "ascii.write(data2,outfile)"
   ]
  },
  {
   "cell_type": "code",
   "execution_count": 6,
   "metadata": {},
   "outputs": [],
   "source": [
    "data = ascii.read('/Users/adaezeibik/virtual_ubuntu/R18-spec/new-ext/r18prs-clip.csv',names=['waves','flux'])\n",
    "EBmV = 0.0729 #from SFD 0.0729 +/-  0.0040\n",
    "Rv = 3.1\n",
    "Av = EBmV*Rv\n",
    "z = 0.12817 # from spec\n",
    "new_flux = Cardelli(data['waves'],data['flux'],Av,Rv)\n",
    "outfile = '/Users/adaezeibik/virtual_ubuntu/R18-spec/new-ext/r18prs-dered.csv'\n",
    "data2 = [data['waves']/(1+z),new_flux]\n",
    "ascii.write(data2,outfile)"
   ]
  },
  {
   "cell_type": "code",
   "execution_count": 8,
   "metadata": {},
   "outputs": [],
   "source": [
    "#using pypeit product\n",
    "data = ascii.read('/Users/adaezeibik/virtual_ubuntu/example_r18_field/r18prs.flm',names=['waves','flux'])\n",
    "EBmV = 0.0729 #from SFD 0.0729 +/-  0.0040\n",
    "Rv = 3.1\n",
    "Av = EBmV*Rv\n",
    "z = 0.12817 # from spec\n",
    "new_flux = Cardelli(data['waves'],data['flux'],Av,Rv)\n",
    "outfile = '/Users/adaezeibik/virtual_ubuntu/example_r18_field/pypeit-r18prs-dered.csv'\n",
    "data2 = [data['waves']/(1+z),new_flux]\n",
    "ascii.write(data2,outfile)"
   ]
  },
  {
   "cell_type": "code",
   "execution_count": 9,
   "metadata": {},
   "outputs": [],
   "source": [
    "#using pypeit product, no redshift , just corrected for extinction\n",
    "data = ascii.read('/Users/adaezeibik/virtual_ubuntu/example_r16_field/r16prs.flm',names=['waves','flux'])\n",
    "EBmV = 0.0495 #from SFD 0.0495 +/-  0.0003\n",
    "Rv = 3.1\n",
    "Av = EBmV*Rv\n",
    "new_flux = Cardelli(data['waves'],data['flux'],Av,Rv)\n",
    "outfile = '/Users/adaezeibik/virtual_ubuntu/example_r16_field/pypeit-r16prs_extincorr.csv'\n",
    "data2 = [data['waves'],new_flux]\n",
    "ascii.write(data2,outfile)"
   ]
  },
  {
   "cell_type": "code",
   "execution_count": 3,
   "metadata": {},
   "outputs": [],
   "source": [
    "#using pypeit product, no redshift , just corrected for extinction\n",
    "data = ascii.read('/Users/adaezeibik/virtual_ubuntu/c64-comb/C64prs-comb.flm',names=['waves','flux'])\n",
    "EBmV = 0.0078 #from SFD\n",
    "Rv = 3.1\n",
    "Av = EBmV*Rv\n",
    "new_flux = Cardelli(data['waves'],data['flux'],Av,Rv)\n",
    "outfile = '/Users/adaezeibik/virtual_ubuntu/c64-comb/C64prs_comb_extincorr.csv'\n",
    "data2 = [data['waves'],new_flux]\n",
    "ascii.write(data2,outfile)"
   ]
  },
  {
   "cell_type": "code",
   "execution_count": null,
   "metadata": {},
   "outputs": [],
   "source": []
  }
 ],
 "metadata": {
  "kernelspec": {
   "display_name": "Python 3 (ipykernel)",
   "language": "python",
   "name": "python3"
  },
  "language_info": {
   "codemirror_mode": {
    "name": "ipython",
    "version": 3
   },
   "file_extension": ".py",
   "mimetype": "text/x-python",
   "name": "python",
   "nbconvert_exporter": "python",
   "pygments_lexer": "ipython3",
   "version": "3.9.1"
  }
 },
 "nbformat": 4,
 "nbformat_minor": 4
}
