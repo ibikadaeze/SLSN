{
 "cells": [
  {
   "cell_type": "code",
   "execution_count": 1,
   "metadata": {},
   "outputs": [],
   "source": [
    "import numpy as np\n",
    "from astropy.io import ascii\n",
    "from astropy.table import Table\n",
    "import sys\n",
    "import matplotlib.pyplot as plt\n",
    "from astropy.cosmology import Planck15 as cosmo\n"
   ]
  },
  {
   "cell_type": "code",
   "execution_count": 2,
   "metadata": {},
   "outputs": [],
   "source": [
    "def SyntheticPhotom(wave,flux,response_file,zeropoint=3631.):\n",
    "    '''Calculates synthetic photom on an input spectrum.\n",
    "    \n",
    "    Parameters:\n",
    "    wave (angstrom): wavelengths of input spectrum in Angstrom\n",
    "    flux (): flux of spectrum erg/s/cm^2/Hz\n",
    "    response file: file with two columns with wave/response of filter. \n",
    "        Assumes mosfit format (col1 = wave in Ang; col2= transmission).\n",
    "    zeropoint: zeropoint calibration for the magnitude. Assume Jy default to AB.\n",
    "    '''\n",
    "    #read in the response file:\n",
    "    response = ascii.read(response_file)\n",
    "    \n",
    "    #Interpolate response to save wavelengths as flux::\n",
    "    response2 = np.interp(wave,response['col1'],response['col2'],left=0.0,right=0.0)\n",
    "    \n",
    "    #Print a warning if the spectrum does not extend to cover the entire response:\n",
    "    if (wave[-1] < response['col1'][-1]):\n",
    "        print('Not enough red spectral coverage for ',response_file)\n",
    "    if (wave[0] > response['col1'][0]):\n",
    "        print('Not enough blue spectral coverage for ',response_file)\n",
    "    \n",
    "    #Convert wavelengths to Hz:\n",
    "    c = 2.98e18\n",
    "    freq = c/wave\n",
    "    \n",
    "    #Convert flux to ergs/s/cm^2/Hz (NB: now assumes already in this format):\n",
    "    flux_Hz = flux \n",
    "    \n",
    "    #Do the synthetic photometry:\n",
    "    numerator = flux_Hz * response2 / freq\n",
    "    demoninator = response2 /freq\n",
    "    flux_int = np.trapz(np.flip(numerator),x=np.flip(freq))/np.trapz(np.flip(demoninator),x=np.flip(freq))\n",
    "    \n",
    "    #Calculate the magnitude\n",
    "    mag = -2.5*np.log10(flux_int/(zeropoint*1e-23))\n",
    "    return mag\n",
    "\n",
    "\n",
    "def shift_dist(wave,flux,dist1,z1,dist2=1e-5,z2=0):\n",
    "    '''Will shift a spectrum to a new distance:\n",
    "    \n",
    "    Parameters:\n",
    "    wave (angstrom): wavelengths of input spectrum in Angstrom\n",
    "    flux (): flux of spectrum erg/s/cm^2/Ang\n",
    "    dist1: what is currently assumed (Mpc)\n",
    "    z1: current redshift\n",
    "    dist2: what is desired (Mpc). default 10 pc.\n",
    "    z2: desired redshift (default 0)\n",
    "    '''\n",
    "\n",
    "    wave_new = wave * (1+z2)/(1+z1)\n",
    "    flux_new = flux * (4* np.pi * (dist1*3.086e+24)**2)/(4* np.pi * (dist2*3.086e+24)**2)\n",
    "    \n",
    "    return wave_new,flux_new\n",
    "\n",
    "def flux_from_mag(mag,dmag,zeropoint):\n",
    "    flux_Jy = zeropoint*10.**(-0.4*mag)\n",
    "    \n",
    "    dflux_Jy = np.zeros(len(flux_Jy))\n",
    "    for i in range(len(dflux_Jy)):\n",
    "        dflux_Jy[i] = np.sqrt((flux_Jy[i]*np.log(10)*(-0.4)*dmag[i])**2)\n",
    "    \n",
    "    return flux_Jy,dflux_Jy"
   ]
  },
  {
   "cell_type": "markdown",
   "metadata": {},
   "source": [
    "## Define some useful parameters for photometric bands of Interest"
   ]
  },
  {
   "cell_type": "code",
   "execution_count": 3,
   "metadata": {},
   "outputs": [],
   "source": [
    "#Photometry zeropoints: \n",
    "#######################\n",
    "#PS1 (AB mag)\n",
    "gp1_zpt = 3631.\n",
    "rp1_zpt = 3631.\n",
    "ip1_zpt = 3631.\n",
    "zp1_zpt = 3631.\n",
    "#SDSS (AB mag)\n",
    "us_zpt = 3631.\n",
    "gs_zpt = 3631.\n",
    "rs_zpt = 3631.\n",
    "is_zpt = 3631.\n",
    "zs_zpt = 3631.\n",
    "#Generic Bessel (Vega Mag)\n",
    "U_zpt = 1699.71\n",
    "B_zpt = 4269.\n",
    "V_zpt = 3640.\n",
    "R_zpt = 3056.93\n",
    "I_zpt = 2550.\n",
    "#2MASS (Vega Mag)\n",
    "J_zpt = 1594.\n",
    "H_zpt = 1024.\n",
    "K_zpt = 666.7\n",
    "\n",
    "#######################\n",
    "##Central Wavelengths:\n",
    "#####################\n",
    "#PS1\n",
    "gp1_pivot = 4876.7\n",
    "rp1_pivot = 6200.1\n",
    "ip1_pivot = 7520.8\n",
    "zp1_pivot = 8665.3\n",
    "\n",
    "#SDSS\n",
    "us_pivot = 3586.8\n",
    "gs_pivot = 4716.7\n",
    "rs_pivot = 6165.1\n",
    "is_pivot = 7475.9\n",
    "zs_pivot = 8922.9\n",
    "\n",
    "#2MASS:\n",
    "J_pivot = 12350.\n",
    "H_pivot = 16620.\n",
    "K_pivot = 21590."
   ]
  },
  {
   "cell_type": "markdown",
   "metadata": {},
   "source": [
    "## PanSTARRS1 Example:"
   ]
  },
  {
   "cell_type": "code",
   "execution_count": 41,
   "metadata": {},
   "outputs": [
    {
     "name": "stdout",
     "output_type": "stream",
     "text": [
      "known mags g 21.65 r 20.70 i 20.40 z 20.00\n",
      "test mags g 21.49 r 20.74 i 20.36 z 20.04\n",
      "Not enough red spectral coverage for  Filters/Generic_Bessell.R_Vega.dat\n",
      "Mu = -20.80 Mr = -21.57\n"
     ]
    }
   ],
   "source": [
    "#Some generic information about your object: \n",
    "redshift = 0.36\n",
    "dredshift= 0.11\n",
    "dist = cosmo.luminosity_distance(redshift).value \n",
    "griz = np.array([21.649,20.6994,20.3958,20.0019])\n",
    "d_griz = np.array([0.1,0.1,0.1,0.1])\n",
    "\n",
    "#Make a fack spectrum by just interpolating between datapoints: \n",
    "zpt_griz = np.array([gp1_zpt,rp1_zpt,ip1_zpt,zp1_zpt])\n",
    "wave_griz = np.array([gp1_pivot,rp1_pivot,ip1_pivot,zp1_pivot])\n",
    "flux_Jy,dflux_Jy = flux_from_mag(griz,d_griz,zpt_griz)\n",
    "\n",
    "wave_test = np.linspace(3900,9510,num=1000)\n",
    "flux_interp = np.interp(wave_test,wave_griz,flux_Jy)*1e-23\n",
    "\n",
    "#See how well we reproduce the 'known values' and if you are happy or not.\n",
    "g_test = SyntheticPhotom(wave_test,flux_interp,'Filters/PAN-STARRS_PS1.g_AB.dat')\n",
    "r_test = SyntheticPhotom(wave_test,flux_interp,'Filters/PAN-STARRS_PS1.r_AB.dat')\n",
    "i_test = SyntheticPhotom(wave_test,flux_interp,'Filters/PAN-STARRS_PS1.i_AB.dat')\n",
    "z_test = SyntheticPhotom(wave_test,flux_interp,'Filters/PAN-STARRS_PS1.z_AB.dat')\n",
    "print('known mags g {:.2f} r {:.2f} i {:.2f} z {:.2f}'.format(griz[0],griz[1],griz[2],griz[3]))\n",
    "print('test mags g {:.2f} r {:.2f} i {:.2f} z {:.2f}'.format(g_test,r_test,i_test,z_test))\n",
    "\n",
    "#Now try to go through and move this spectrum to rest frame and do U and R photometry:\n",
    "rest_wave,rest_flux = shift_dist(wave_test,flux_interp,dist,redshift)\n",
    "\n",
    "#And finally, do synthetic photometry on that data in U and R band:\n",
    "U_abs = SyntheticPhotom(rest_wave,rest_flux,'Filters/Generic_Bessell.U_Vega.dat',zeropoint=U_zpt)\n",
    "R_abs = SyntheticPhotom(rest_wave,rest_flux,'Filters/Generic_Bessell.R_Vega.dat',zeropoint=R_zpt)\n",
    "print('Mu = {:.2f} Mr = {:.2f}'.format(U_abs,R_abs))"
   ]
  },
  {
   "cell_type": "markdown",
   "metadata": {},
   "source": [
    "### SDSS Example: "
   ]
  },
  {
   "cell_type": "code",
   "execution_count": 4,
   "metadata": {},
   "outputs": [
    {
     "ename": "FileNotFoundError",
     "evalue": "[Errno 2] No such file or directory: 'Filters/SLOAN_SDSS.u_AB.dat'",
     "output_type": "error",
     "traceback": [
      "\u001b[0;31m---------------------------------------------------------------------------\u001b[0m",
      "\u001b[0;31mFileNotFoundError\u001b[0m                         Traceback (most recent call last)",
      "Cell \u001b[0;32mIn[4], line 17\u001b[0m\n\u001b[1;32m     14\u001b[0m flux_interp \u001b[38;5;241m=\u001b[39m np\u001b[38;5;241m.\u001b[39minterp(wave_test,wave_ugriz,flux_Jy)\u001b[38;5;241m*\u001b[39m\u001b[38;5;241m1e-23\u001b[39m\n\u001b[1;32m     16\u001b[0m \u001b[38;5;66;03m#See how well we reproduce the 'known values' and if you are happy or not.\u001b[39;00m\n\u001b[0;32m---> 17\u001b[0m u_test \u001b[38;5;241m=\u001b[39m \u001b[43mSyntheticPhotom\u001b[49m\u001b[43m(\u001b[49m\u001b[43mwave_test\u001b[49m\u001b[43m,\u001b[49m\u001b[43mflux_interp\u001b[49m\u001b[43m,\u001b[49m\u001b[38;5;124;43m'\u001b[39;49m\u001b[38;5;124;43mFilters/SLOAN_SDSS.u_AB.dat\u001b[39;49m\u001b[38;5;124;43m'\u001b[39;49m\u001b[43m)\u001b[49m\n\u001b[1;32m     18\u001b[0m g_test \u001b[38;5;241m=\u001b[39m SyntheticPhotom(wave_test,flux_interp,\u001b[38;5;124m'\u001b[39m\u001b[38;5;124mFilters/SLOAN_SDSS.g_AB.dat\u001b[39m\u001b[38;5;124m'\u001b[39m)\n\u001b[1;32m     19\u001b[0m r_test \u001b[38;5;241m=\u001b[39m SyntheticPhotom(wave_test,flux_interp,\u001b[38;5;124m'\u001b[39m\u001b[38;5;124mFilters/SLOAN_SDSS.r_AB.dat\u001b[39m\u001b[38;5;124m'\u001b[39m)\n",
      "Cell \u001b[0;32mIn[2], line 12\u001b[0m, in \u001b[0;36mSyntheticPhotom\u001b[0;34m(wave, flux, response_file, zeropoint)\u001b[0m\n\u001b[1;32m      2\u001b[0m \u001b[38;5;250m\u001b[39m\u001b[38;5;124;03m'''Calculates synthetic photom on an input spectrum.\u001b[39;00m\n\u001b[1;32m      3\u001b[0m \u001b[38;5;124;03m\u001b[39;00m\n\u001b[1;32m      4\u001b[0m \u001b[38;5;124;03mParameters:\u001b[39;00m\n\u001b[0;32m   (...)\u001b[0m\n\u001b[1;32m      9\u001b[0m \u001b[38;5;124;03mzeropoint: zeropoint calibration for the magnitude. Assume Jy default to AB.\u001b[39;00m\n\u001b[1;32m     10\u001b[0m \u001b[38;5;124;03m'''\u001b[39;00m\n\u001b[1;32m     11\u001b[0m \u001b[38;5;66;03m#read in the response file:\u001b[39;00m\n\u001b[0;32m---> 12\u001b[0m response \u001b[38;5;241m=\u001b[39m \u001b[43mascii\u001b[49m\u001b[38;5;241;43m.\u001b[39;49m\u001b[43mread\u001b[49m\u001b[43m(\u001b[49m\u001b[43mresponse_file\u001b[49m\u001b[43m)\u001b[49m\n\u001b[1;32m     14\u001b[0m \u001b[38;5;66;03m#Interpolate response to save wavelengths as flux::\u001b[39;00m\n\u001b[1;32m     15\u001b[0m response2 \u001b[38;5;241m=\u001b[39m np\u001b[38;5;241m.\u001b[39minterp(wave,response[\u001b[38;5;124m'\u001b[39m\u001b[38;5;124mcol1\u001b[39m\u001b[38;5;124m'\u001b[39m],response[\u001b[38;5;124m'\u001b[39m\u001b[38;5;124mcol2\u001b[39m\u001b[38;5;124m'\u001b[39m],left\u001b[38;5;241m=\u001b[39m\u001b[38;5;241m0.0\u001b[39m,right\u001b[38;5;241m=\u001b[39m\u001b[38;5;241m0.0\u001b[39m)\n",
      "File \u001b[0;32m/Library/Frameworks/Python.framework/Versions/3.9/lib/python3.9/site-packages/astropy/io/ascii/ui.py:374\u001b[0m, in \u001b[0;36mread\u001b[0;34m(table, guess, **kwargs)\u001b[0m\n\u001b[1;32m    368\u001b[0m             new_kwargs[\u001b[38;5;124m\"\u001b[39m\u001b[38;5;124mguess_html\u001b[39m\u001b[38;5;124m\"\u001b[39m] \u001b[38;5;241m=\u001b[39m _probably_html(table)\n\u001b[1;32m    370\u001b[0m \u001b[38;5;66;03m# Get the table from guess in ``dat``.  If ``dat`` comes back as None\u001b[39;00m\n\u001b[1;32m    371\u001b[0m \u001b[38;5;66;03m# then there was just one set of kwargs in the guess list so fall\u001b[39;00m\n\u001b[1;32m    372\u001b[0m \u001b[38;5;66;03m# through below to the non-guess way so that any problems result in a\u001b[39;00m\n\u001b[1;32m    373\u001b[0m \u001b[38;5;66;03m# more useful traceback.\u001b[39;00m\n\u001b[0;32m--> 374\u001b[0m dat \u001b[38;5;241m=\u001b[39m \u001b[43m_guess\u001b[49m\u001b[43m(\u001b[49m\u001b[43mtable\u001b[49m\u001b[43m,\u001b[49m\u001b[43m \u001b[49m\u001b[43mnew_kwargs\u001b[49m\u001b[43m,\u001b[49m\u001b[43m \u001b[49m\u001b[38;5;28;43mformat\u001b[39;49m\u001b[43m,\u001b[49m\u001b[43m \u001b[49m\u001b[43mfast_reader\u001b[49m\u001b[43m)\u001b[49m\n\u001b[1;32m    375\u001b[0m \u001b[38;5;28;01mif\u001b[39;00m dat \u001b[38;5;129;01mis\u001b[39;00m \u001b[38;5;28;01mNone\u001b[39;00m:\n\u001b[1;32m    376\u001b[0m     guess \u001b[38;5;241m=\u001b[39m \u001b[38;5;28;01mFalse\u001b[39;00m\n",
      "File \u001b[0;32m/Library/Frameworks/Python.framework/Versions/3.9/lib/python3.9/site-packages/astropy/io/ascii/ui.py:581\u001b[0m, in \u001b[0;36m_guess\u001b[0;34m(table, read_kwargs, format, fast_reader)\u001b[0m\n\u001b[1;32m    578\u001b[0m reader \u001b[38;5;241m=\u001b[39m get_reader(\u001b[38;5;241m*\u001b[39m\u001b[38;5;241m*\u001b[39mguess_kwargs)\n\u001b[1;32m    580\u001b[0m reader\u001b[38;5;241m.\u001b[39mguessing \u001b[38;5;241m=\u001b[39m \u001b[38;5;28;01mTrue\u001b[39;00m\n\u001b[0;32m--> 581\u001b[0m dat \u001b[38;5;241m=\u001b[39m \u001b[43mreader\u001b[49m\u001b[38;5;241;43m.\u001b[39;49m\u001b[43mread\u001b[49m\u001b[43m(\u001b[49m\u001b[43mtable\u001b[49m\u001b[43m)\u001b[49m\n\u001b[1;32m    582\u001b[0m _read_trace\u001b[38;5;241m.\u001b[39mappend(\n\u001b[1;32m    583\u001b[0m     {\n\u001b[1;32m    584\u001b[0m         \u001b[38;5;124m\"\u001b[39m\u001b[38;5;124mkwargs\u001b[39m\u001b[38;5;124m\"\u001b[39m: copy\u001b[38;5;241m.\u001b[39mdeepcopy(guess_kwargs),\n\u001b[0;32m   (...)\u001b[0m\n\u001b[1;32m    588\u001b[0m     }\n\u001b[1;32m    589\u001b[0m )\n\u001b[1;32m    590\u001b[0m \u001b[38;5;28;01mreturn\u001b[39;00m dat\n",
      "File \u001b[0;32m/Library/Frameworks/Python.framework/Versions/3.9/lib/python3.9/site-packages/astropy/io/ascii/core.py:1414\u001b[0m, in \u001b[0;36mBaseReader.read\u001b[0;34m(self, table)\u001b[0m\n\u001b[1;32m   1411\u001b[0m     newline \u001b[38;5;241m=\u001b[39m \u001b[38;5;28;01mNone\u001b[39;00m\n\u001b[1;32m   1413\u001b[0m \u001b[38;5;66;03m# Get a list of the lines (rows) in the table\u001b[39;00m\n\u001b[0;32m-> 1414\u001b[0m \u001b[38;5;28mself\u001b[39m\u001b[38;5;241m.\u001b[39mlines \u001b[38;5;241m=\u001b[39m \u001b[38;5;28;43mself\u001b[39;49m\u001b[38;5;241;43m.\u001b[39;49m\u001b[43minputter\u001b[49m\u001b[38;5;241;43m.\u001b[39;49m\u001b[43mget_lines\u001b[49m\u001b[43m(\u001b[49m\u001b[43mtable\u001b[49m\u001b[43m,\u001b[49m\u001b[43m \u001b[49m\u001b[43mnewline\u001b[49m\u001b[38;5;241;43m=\u001b[39;49m\u001b[43mnewline\u001b[49m\u001b[43m)\u001b[49m\n\u001b[1;32m   1416\u001b[0m \u001b[38;5;66;03m# Set self.data.data_lines to a slice of lines contain the data rows\u001b[39;00m\n\u001b[1;32m   1417\u001b[0m \u001b[38;5;28mself\u001b[39m\u001b[38;5;241m.\u001b[39mdata\u001b[38;5;241m.\u001b[39mget_data_lines(\u001b[38;5;28mself\u001b[39m\u001b[38;5;241m.\u001b[39mlines)\n",
      "File \u001b[0;32m/Library/Frameworks/Python.framework/Versions/3.9/lib/python3.9/site-packages/astropy/io/ascii/core.py:335\u001b[0m, in \u001b[0;36mBaseInputter.get_lines\u001b[0;34m(self, table, newline)\u001b[0m\n\u001b[1;32m    331\u001b[0m \u001b[38;5;28;01mtry\u001b[39;00m:\n\u001b[1;32m    332\u001b[0m     \u001b[38;5;28;01mif\u001b[39;00m \u001b[38;5;28mhasattr\u001b[39m(table, \u001b[38;5;124m\"\u001b[39m\u001b[38;5;124mread\u001b[39m\u001b[38;5;124m\"\u001b[39m) \u001b[38;5;129;01mor\u001b[39;00m (\n\u001b[1;32m    333\u001b[0m         \u001b[38;5;124m\"\u001b[39m\u001b[38;5;130;01m\\n\u001b[39;00m\u001b[38;5;124m\"\u001b[39m \u001b[38;5;129;01mnot\u001b[39;00m \u001b[38;5;129;01min\u001b[39;00m table \u001b[38;5;241m+\u001b[39m \u001b[38;5;124m\"\u001b[39m\u001b[38;5;124m\"\u001b[39m \u001b[38;5;129;01mand\u001b[39;00m \u001b[38;5;124m\"\u001b[39m\u001b[38;5;130;01m\\r\u001b[39;00m\u001b[38;5;124m\"\u001b[39m \u001b[38;5;129;01mnot\u001b[39;00m \u001b[38;5;129;01min\u001b[39;00m table \u001b[38;5;241m+\u001b[39m \u001b[38;5;124m\"\u001b[39m\u001b[38;5;124m\"\u001b[39m\n\u001b[1;32m    334\u001b[0m     ):\n\u001b[0;32m--> 335\u001b[0m         \u001b[38;5;28;01mwith\u001b[39;00m get_readable_fileobj(table, encoding\u001b[38;5;241m=\u001b[39m\u001b[38;5;28mself\u001b[39m\u001b[38;5;241m.\u001b[39mencoding) \u001b[38;5;28;01mas\u001b[39;00m fileobj:\n\u001b[1;32m    336\u001b[0m             table \u001b[38;5;241m=\u001b[39m fileobj\u001b[38;5;241m.\u001b[39mread()\n\u001b[1;32m    337\u001b[0m     \u001b[38;5;28;01mif\u001b[39;00m newline \u001b[38;5;129;01mis\u001b[39;00m \u001b[38;5;28;01mNone\u001b[39;00m:\n",
      "File \u001b[0;32m/Library/Frameworks/Python.framework/Versions/3.9/lib/python3.9/contextlib.py:117\u001b[0m, in \u001b[0;36m_GeneratorContextManager.__enter__\u001b[0;34m(self)\u001b[0m\n\u001b[1;32m    115\u001b[0m \u001b[38;5;28;01mdel\u001b[39;00m \u001b[38;5;28mself\u001b[39m\u001b[38;5;241m.\u001b[39margs, \u001b[38;5;28mself\u001b[39m\u001b[38;5;241m.\u001b[39mkwds, \u001b[38;5;28mself\u001b[39m\u001b[38;5;241m.\u001b[39mfunc\n\u001b[1;32m    116\u001b[0m \u001b[38;5;28;01mtry\u001b[39;00m:\n\u001b[0;32m--> 117\u001b[0m     \u001b[38;5;28;01mreturn\u001b[39;00m \u001b[38;5;28;43mnext\u001b[39;49m\u001b[43m(\u001b[49m\u001b[38;5;28;43mself\u001b[39;49m\u001b[38;5;241;43m.\u001b[39;49m\u001b[43mgen\u001b[49m\u001b[43m)\u001b[49m\n\u001b[1;32m    118\u001b[0m \u001b[38;5;28;01mexcept\u001b[39;00m \u001b[38;5;167;01mStopIteration\u001b[39;00m:\n\u001b[1;32m    119\u001b[0m     \u001b[38;5;28;01mraise\u001b[39;00m \u001b[38;5;167;01mRuntimeError\u001b[39;00m(\u001b[38;5;124m\"\u001b[39m\u001b[38;5;124mgenerator didn\u001b[39m\u001b[38;5;124m'\u001b[39m\u001b[38;5;124mt yield\u001b[39m\u001b[38;5;124m\"\u001b[39m) \u001b[38;5;28;01mfrom\u001b[39;00m \u001b[38;5;28;01mNone\u001b[39;00m\n",
      "File \u001b[0;32m/Library/Frameworks/Python.framework/Versions/3.9/lib/python3.9/site-packages/astropy/utils/data.py:351\u001b[0m, in \u001b[0;36mget_readable_fileobj\u001b[0;34m(name_or_obj, encoding, cache, show_progress, remote_timeout, sources, http_headers, use_fsspec, fsspec_kwargs, close_files)\u001b[0m\n\u001b[1;32m    342\u001b[0m \u001b[38;5;28;01mif\u001b[39;00m is_url:\n\u001b[1;32m    343\u001b[0m     name_or_obj \u001b[38;5;241m=\u001b[39m download_file(\n\u001b[1;32m    344\u001b[0m         name_or_obj,\n\u001b[1;32m    345\u001b[0m         cache\u001b[38;5;241m=\u001b[39mcache,\n\u001b[0;32m   (...)\u001b[0m\n\u001b[1;32m    349\u001b[0m         http_headers\u001b[38;5;241m=\u001b[39mhttp_headers,\n\u001b[1;32m    350\u001b[0m     )\n\u001b[0;32m--> 351\u001b[0m fileobj \u001b[38;5;241m=\u001b[39m \u001b[43mio\u001b[49m\u001b[38;5;241;43m.\u001b[39;49m\u001b[43mFileIO\u001b[49m\u001b[43m(\u001b[49m\u001b[43mname_or_obj\u001b[49m\u001b[43m,\u001b[49m\u001b[43m \u001b[49m\u001b[38;5;124;43m\"\u001b[39;49m\u001b[38;5;124;43mr\u001b[39;49m\u001b[38;5;124;43m\"\u001b[39;49m\u001b[43m)\u001b[49m\n\u001b[1;32m    352\u001b[0m \u001b[38;5;28;01mif\u001b[39;00m is_url \u001b[38;5;129;01mand\u001b[39;00m \u001b[38;5;129;01mnot\u001b[39;00m cache:\n\u001b[1;32m    353\u001b[0m     delete_fds\u001b[38;5;241m.\u001b[39mappend(fileobj)\n",
      "\u001b[0;31mFileNotFoundError\u001b[0m: [Errno 2] No such file or directory: 'Filters/SLOAN_SDSS.u_AB.dat'"
     ]
    }
   ],
   "source": [
    "#Some generic information about your object: \n",
    "redshift = 0.107\n",
    "dredshift= 0.005\n",
    "dist = cosmo.luminosity_distance(redshift).value \n",
    "ugriz = np.array([19.688,18.8809,17.937,17.4958,17.3136])\n",
    "d_ugriz = np.array([0.1,0.1,0.1,0.1,0.1])\n",
    "\n",
    "#Make a fack spectrum by just interpolating between datapoints: \n",
    "zpt_ugriz = np.array([us_zpt,gs_zpt,rs_zpt,is_zpt,zs_zpt])\n",
    "wave_ugriz = np.array([us_pivot,gs_pivot,rs_pivot,is_pivot,zs_pivot])\n",
    "flux_Jy,dflux_Jy = flux_from_mag(ugriz,d_ugriz,zpt_ugriz)\n",
    "\n",
    "wave_test = np.linspace(2980,11205.0,num=1500)\n",
    "flux_interp = np.interp(wave_test,wave_ugriz,flux_Jy)*1e-23\n",
    "\n",
    "#See how well we reproduce the 'known values' and if you are happy or not.\n",
    "u_test = SyntheticPhotom(wave_test,flux_interp,'Filters/SLOAN_SDSS.u_AB.dat')\n",
    "g_test = SyntheticPhotom(wave_test,flux_interp,'Filters/SLOAN_SDSS.g_AB.dat')\n",
    "r_test = SyntheticPhotom(wave_test,flux_interp,'Filters/SLOAN_SDSS.r_AB.dat')\n",
    "i_test = SyntheticPhotom(wave_test,flux_interp,'Filters/SLOAN_SDSS.i_AB.dat')\n",
    "z_test = SyntheticPhotom(wave_test,flux_interp,'Filters/SLOAN_SDSS.z_AB.dat')\n",
    "print('known mags u {:.2f} g {:.2f} r {:.2f} i {:.2f} z {:.2f}'.format(ugriz[0],ugriz[1],ugriz[2],ugriz[3],ugriz[4]))\n",
    "print('test mags u {:.2f} g {:.2f} r {:.2f} i {:.2f} z {:.2f}'.format(u_test,g_test,r_test,i_test,z_test))\n",
    "\n",
    "#Now try to go through and move this spectrum to rest frame and do U and R photometry:\n",
    "rest_wave,rest_flux = shift_dist(wave_test,flux_interp,dist,redshift)\n",
    "\n",
    "#And finally, do synthetic photometry on that data in U and R band:\n",
    "U_abs = SyntheticPhotom(rest_wave,rest_flux,'Filters/Generic_Bessell.U_Vega.dat',zeropoint=U_zpt)\n",
    "R_abs = SyntheticPhotom(rest_wave,rest_flux,'Filters/Generic_Bessell.R_Vega.dat',zeropoint=R_zpt)\n",
    "print('Mu = {:.2f} Mr = {:.2f}'.format(U_abs,R_abs))"
   ]
  },
  {
   "cell_type": "code",
   "execution_count": null,
   "metadata": {},
   "outputs": [],
   "source": []
  }
 ],
 "metadata": {
  "kernelspec": {
   "display_name": "Python 3 (ipykernel)",
   "language": "python",
   "name": "python3"
  },
  "language_info": {
   "codemirror_mode": {
    "name": "ipython",
    "version": 3
   },
   "file_extension": ".py",
   "mimetype": "text/x-python",
   "name": "python",
   "nbconvert_exporter": "python",
   "pygments_lexer": "ipython3",
   "version": "3.9.1"
  }
 },
 "nbformat": 4,
 "nbformat_minor": 4
}
